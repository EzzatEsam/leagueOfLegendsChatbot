{
 "cells": [
  {
   "cell_type": "code",
   "execution_count": 9,
   "metadata": {},
   "outputs": [],
   "source": [
    "import pickle\n",
    "from langchain.docstore.document import Document\n",
    "import copy\n",
    "from langchain_chroma import Chroma\n",
    "from langchain_text_splitters import RecursiveCharacterTextSplitter\n",
    "from langchain_google_genai import ChatGoogleGenerativeAI\n",
    "from langchain_google_genai import GoogleGenerativeAIEmbeddings\n",
    "from langchain.schema import StrOutputParser"
   ]
  },
  {
   "cell_type": "code",
   "execution_count": 2,
   "metadata": {},
   "outputs": [],
   "source": [
    "def load_data_from_disk(filename):\n",
    "    with open(filename, \"rb\") as file:\n",
    "        return pickle.load(file)"
   ]
  },
  {
   "cell_type": "code",
   "execution_count": 3,
   "metadata": {},
   "outputs": [],
   "source": [
    "items_file = r\"lol_chatter_backend/cached/items.pkl\"\n",
    "champions_file = r\"lol_chatter_backend/cached/champions.pkl\"\n",
    "items_processed = load_data_from_disk(items_file)\n",
    "champions_processed = load_data_from_disk(champions_file)"
   ]
  },
  {
   "cell_type": "code",
   "execution_count": 4,
   "metadata": {},
   "outputs": [],
   "source": [
    "def item2str(item):\n",
    "    name = item[\"name\"]\n",
    "    item_string = (\n",
    "        f\"{name} Tier: {item['tier']}\\n\"\n",
    "        f\"{name} Rank: {', '.join(item['rank'])}\\n\"\n",
    "        f\"{name} Builds From: {', '.join(item['buildsFrom']) if item['buildsFrom'] else 'None'}\\n\"\n",
    "        f\"{name} Builds Into: {', '.join(item['buildsInto']) if item['buildsInto'] else 'None'}\\n\"  \n",
    "        f\"{name} Required Champion: {item['requiredChampion'] if item['requiredChampion'] else 'None'}\\n\"\n",
    "        f\"{name} Icon: {item['icon']}\\n\"\n",
    "        f\"{name} Description: {item['simpleDescription']}\\n\"\n",
    "        f\"{name} Nicknames: {', '.join(item['nicknames']) if item['nicknames'] else 'None'}\\n\"\n",
    "        f\"{name} Passives: {str(item['passives']) if item['passives'] else 'None'}\\n\"\n",
    "        f\"{name} Active: {(item['active']) if item['active'] else 'None'}\\n\"\n",
    "        f\"{name} Stats:\\n : {item['stats']}\\n\"\n",
    "        f\"{name} Shop:\\n\"\n",
    "        f\"{name} Prices Total: {item['shop']['prices']['total']}\\n\"\n",
    "        # f\"{name} Prices Combined: {item['shop']['prices']['combined']}\\n\"\n",
    "        f\"{name} Prices Sell: {item['shop']['prices']['sell']}\\n\"\n",
    "        f\"{name} Purchasable: {'Yes' if item['shop']['purchasable'] else 'No'}\\n\"\n",
    "        f\"{name} Tags: {', '.join(item['shop']['tags']) if item['shop']['tags'] else 'None'}\"\n",
    "    )\n",
    "    item_string = item_string.replace(\"'\", '')\n",
    "    item_string = item_string.replace(\"\\\"\", '')\n",
    "    return item_string\n",
    "\n",
    "for item in items_processed.values():\n",
    "    item2str(item)"
   ]
  },
  {
   "cell_type": "code",
   "execution_count": 4,
   "metadata": {},
   "outputs": [
    {
     "data": {
      "text/plain": [
       "16359"
      ]
     },
     "execution_count": 4,
     "metadata": {},
     "output_type": "execute_result"
    }
   ],
   "source": [
    "\n",
    "\n",
    "def dict2str(dct : dict) -> str:\n",
    "    name = dct[\"name\"]\n",
    "    champ_string = \"\"\n",
    "    for k in dct.keys():\n",
    "        v = copy.deepcopy(dct[k])\n",
    "        if isinstance(v, dict):\n",
    "            for k2 in v.copy().keys():\n",
    "                v[f\"{name} {k2}\"] = v.pop(k2)\n",
    "        champ_string += f\"{name} {k}: {v if v  else None}\\n\"\n",
    "\n",
    "    champ_string =champ_string.replace(\"'\", \"\").replace('\"', \"\")\n",
    "    return champ_string\n",
    "\n",
    "len(dict2str(champions_processed[\"aatrox\"]))"
   ]
  },
  {
   "cell_type": "code",
   "execution_count": 5,
   "metadata": {},
   "outputs": [],
   "source": [
    "\n",
    "docs = [Document(page_content=dict2str(item), metadata={\"source\":f\"Item data : {item[\"name\"]}\" }) for item in items_processed.values()]\n",
    "\n",
    "docs += [Document(page_content=dict2str(champion), metadata={\"source\": f\"Champion data : {champion['name']}\" }) for champion in champions_processed.values()]"
   ]
  },
  {
   "cell_type": "code",
   "execution_count": 6,
   "metadata": {},
   "outputs": [],
   "source": [
    "text_splitter = RecursiveCharacterTextSplitter(chunk_size=1000, chunk_overlap=200)\n",
    "splits = text_splitter.split_documents(docs)"
   ]
  },
  {
   "cell_type": "code",
   "execution_count": 106,
   "metadata": {},
   "outputs": [],
   "source": [
    "gemini_embeddings = GoogleGenerativeAIEmbeddings(model=\"models/text-embedding-004\")\n",
    "\n",
    "vectorstore = Chroma.from_documents(\n",
    "    documents=splits,  # Data\n",
    "    embedding=gemini_embeddings,  # Embedding model\n",
    "    persist_directory=\"./chroma_db2\",  # Directory to save data\n",
    ")\n",
    "\n"
   ]
  },
  {
   "cell_type": "code",
   "execution_count": 107,
   "metadata": {},
   "outputs": [
    {
     "data": {
      "text/plain": [
       "[Document(metadata={'source': 'Champion data : Aatrox'}, page_content='% AD, 90.000  % AD]}]}, {attribute: First Sweetspot Damage, modifiers: [{valuePerLevel: [16.000  , 40.000  , 64.000  , 88.000  , 112.000  ]}, {valuePerLevel: [96.000  % AD, 108.000  % AD, 120.000  % AD, 132.000  % AD, 144.000  % AD]}]}]}, {description: Second Cast: Aatroxs second strike affects a trapezoidal area in the target direction, with the Sweetspot at the farthest edge. The hitbox begins 100-units behind Aatrox and extends 475-units in front of him, measuring between 300 and 500-units wide from behind to in front., leveling: [{attribute: Second Cast Damage, modifiers: [{valuePerLevel: [12.500  , 31.250  , 50.000  , 68.750  , 87.500  ]}, {valuePerLevel: [75.000  % AD, 84.375  % AD, 93.750  % AD, 103.125  % AD, 112.500  % AD]}]}, {attribute: Second Sweetspot Damage, modifiers: [{valuePerLevel: [20.000  , 50.000  , 80.000  , 110.000  , 140.000  ]}, {valuePerLevel: [120.000  % AD, 135.000  % AD, 150.000  % AD, 165.000  % AD, 180.000  % AD]}]}]}, {description: Third Cast: Aatroxs'),\n",
       " Document(metadata={'source': 'Champion data : Aatrox'}, page_content='% AD, 90.000  % AD]}]}, {attribute: First Sweetspot Damage, modifiers: [{valuePerLevel: [16.000  , 40.000  , 64.000  , 88.000  , 112.000  ]}, {valuePerLevel: [96.000  % AD, 108.000  % AD, 120.000  % AD, 132.000  % AD, 144.000  % AD]}]}]}, {description: Second Cast: Aatroxs second strike affects a trapezoidal area in the target direction, with the Sweetspot at the farthest edge. The hitbox begins 100-units behind Aatrox and extends 475-units in front of him, measuring between 300 and 500-units wide from behind to in front., leveling: [{attribute: Second Cast Damage, modifiers: [{valuePerLevel: [12.500  , 31.250  , 50.000  , 68.750  , 87.500  ]}, {valuePerLevel: [75.000  % AD, 84.375  % AD, 93.750  % AD, 103.125  % AD, 112.500  % AD]}]}, {attribute: Second Sweetspot Damage, modifiers: [{valuePerLevel: [20.000  , 50.000  , 80.000  , 110.000  , 140.000  ]}, {valuePerLevel: [120.000  % AD, 135.000  % AD, 150.000  % AD, 165.000  % AD, 180.000  % AD]}]}]}, {description: Third Cast: Aatroxs'),\n",
       " Document(metadata={'source': 'Champion data : Aatrox'}, page_content='Aatrox releaseDate: 2013-06-13\\nAatrox releasePatch: 3.8\\nAatrox patchLastChanged: 14.12\\nAatrox price: {Aatrox blueEssence: 4800, Aatrox rp: 880, Aatrox saleRp: 0}\\nAatrox lore: Once honored defenders of Shurima against the Void, Aatrox and his brethren would eventually become an even greater threat to Runeterra, and were defeated only by cunning mortal sorcery. But after centuries of imprisonment, Aatrox was the first to find freedom once more, corrupting and transforming those foolish enough to try and wield the magical weapon that contained his essence. Now, with stolen flesh, he walks Runeterra in a brutal approximation of his previous form, seeking an apocalyptic and long overdue vengeance.\\nAatrox faction: unaffiliated'),\n",
       " Document(metadata={'source': 'Champion data : Aatrox'}, page_content='Aatrox releaseDate: 2013-06-13\\nAatrox releasePatch: 3.8\\nAatrox patchLastChanged: 14.12\\nAatrox price: {Aatrox blueEssence: 4800, Aatrox rp: 880, Aatrox saleRp: 0}\\nAatrox lore: Once honored defenders of Shurima against the Void, Aatrox and his brethren would eventually become an even greater threat to Runeterra, and were defeated only by cunning mortal sorcery. But after centuries of imprisonment, Aatrox was the first to find freedom once more, corrupting and transforming those foolish enough to try and wield the magical weapon that contained his essence. Now, with stolen flesh, he walks Runeterra in a brutal approximation of his previous form, seeking an apocalyptic and long overdue vengeance.\\nAatrox faction: unaffiliated'),\n",
       " Document(metadata={'source': 'Champion data : Aatrox'}, page_content='Arcs or Practice Tools cooldown reduction or by going on a very long killing spree., blurb: Active:  Aatrox unleashes his true form for a period, gaining a burst of  move speed. During this time, Aatrox has increased  attack damage and  self-healing., missileSpeed: None, rechargeRate: None, collisionRadius: None, tetherRadius: None, onTargetCdStatic: None, innerRadius: None, speed: None, width: None, angle: None, castTime: 0.25, effectRadius: 600, targetRange: None}]}'),\n",
       " Document(metadata={'source': 'Champion data : Aatrox'}, page_content='Arcs or Practice Tools cooldown reduction or by going on a very long killing spree., blurb: Active:  Aatrox unleashes his true form for a period, gaining a burst of  move speed. During this time, Aatrox has increased  attack damage and  self-healing., missileSpeed: None, rechargeRate: None, collisionRadius: None, tetherRadius: None, onTargetCdStatic: None, innerRadius: None, speed: None, width: None, angle: None, castTime: 0.25, effectRadius: 600, targetRange: None}]}')]"
      ]
     },
     "execution_count": 107,
     "metadata": {},
     "output_type": "execute_result"
    }
   ],
   "source": [
    "vectorstore_disk = Chroma(\n",
    "    persist_directory=\"./chroma_db2\",  # Directory of db\n",
    "    embedding_function=gemini_embeddings,  # Embedding model\n",
    ")\n",
    "\n",
    "\n",
    "retriever = vectorstore_disk.as_retriever(search_kwargs={\"k\": 6})\n",
    "retriever.invoke(\"aatrox\")"
   ]
  },
  {
   "cell_type": "code",
   "execution_count": 108,
   "metadata": {},
   "outputs": [
    {
     "data": {
      "text/plain": [
       "'langchain'"
      ]
     },
     "execution_count": 108,
     "metadata": {},
     "output_type": "execute_result"
    }
   ],
   "source": [
    "vectorstore_disk._collection_name"
   ]
  },
  {
   "cell_type": "code",
   "execution_count": 85,
   "metadata": {},
   "outputs": [],
   "source": [
    "from langchain.chains import create_history_aware_retriever\n",
    "from langchain_core.prompts import MessagesPlaceholder\n",
    "from langchain_core.prompts import ChatPromptTemplate\n",
    "\n",
    "llm = ChatGoogleGenerativeAI(\n",
    "    model=\"gemini-1.5-flash\",\n",
    "    max_retries=2,\n",
    "    # other params...\n",
    ")\n",
    "\n",
    "contextualize_q_system_prompt = (\n",
    "    \"\"\"\n",
    "    Given a chat history and the latest user question \n",
    "    which might reference context in the chat history, \n",
    "    formulate a standalone question which can be understood \n",
    "    without the chat history. Do NOT answer the question, \n",
    "    just reformulate it if needed and otherwise return it as is.\n",
    "    \"\"\"\n",
    ")\n",
    "\n",
    "contextualize_q_prompt = ChatPromptTemplate.from_messages(\n",
    "    [\n",
    "        (\"system\", contextualize_q_system_prompt),\n",
    "        MessagesPlaceholder(\"chat_history\"),\n",
    "        (\"human\", \"{input}\"),\n",
    "    ]\n",
    ")\n",
    "\n"
   ]
  },
  {
   "cell_type": "code",
   "execution_count": 43,
   "metadata": {},
   "outputs": [],
   "source": [
    "rephrase_llm = llm\n",
    "qa_llm = llm"
   ]
  },
  {
   "cell_type": "code",
   "execution_count": 91,
   "metadata": {},
   "outputs": [],
   "source": [
    "from langchain.chains import create_retrieval_chain\n",
    "from langchain.chains.combine_documents import create_stuff_documents_chain\n",
    "\n",
    "system_prompt = (\n",
    "    \"\"\"\n",
    "    You are an assistant for League of Legends. You refuse to answer questions about unrelated topics.\n",
    "    Use the following pieces of retrieved context to answer the question. If you don't know the answer, say that you don't know. \n",
    "    If you can include images in your answer, do so.\n",
    "    answer in details but still be concise. Be friendly and polite.\n",
    "    \n",
    "    \n",
    "    {context}\n",
    "    \"\"\"\n",
    ")\n",
    "qa_prompt = ChatPromptTemplate.from_messages(\n",
    "    [\n",
    "        (\"system\", system_prompt),\n",
    "        MessagesPlaceholder(\"chat_history\"),\n",
    "        (\"human\", \"{input}\"),\n",
    "    ]\n",
    ")\n",
    "\n",
    "retriever_chain = contextualize_q_prompt | rephrase_llm | StrOutputParser() | retriever"
   ]
  },
  {
   "cell_type": "code",
   "execution_count": 62,
   "metadata": {},
   "outputs": [],
   "source": []
  },
  {
   "cell_type": "code",
   "execution_count": 92,
   "metadata": {},
   "outputs": [
    {
     "name": "stdout",
     "output_type": "stream",
     "text": [
      "Ahri's Q, **Orb of Deception**, is a versatile ability that can be used for poke, farming, and securing kills. \n",
      "\n",
      "Here's how it works:\n",
      "\n",
      "* **Active:** Ahri sends out an orb that deals magic damage to enemies hit.\n",
      "* **Return:** At maximum range, the orb homes back to Ahri, dealing **true damage** to enemies hit on its return trip. \n",
      "* **Area of Effect:**  The orb will hit additional units around the return point in a small circle when it turns around. This applies to both the initial and return damage. \n",
      "* **Single Hit:** Each pass of the projectile can only damage an enemy once.\n",
      "\n",
      "**Key Points:**\n",
      "\n",
      "* **Mixed Damage:** The orb deals magic damage on the initial cast and true damage on the return.\n",
      "* **True Damage:**  True damage ignores armor and magic resistance, making it very effective against tanks.\n",
      "* **Range:** It has a long range, making it a good tool for poking and harassing enemies.\n",
      "* **Farming:**  It can be used for farming minions, especially since it deals true damage on the return.\n",
      "\n",
      "**Strategies for using Orb of Deception:**\n",
      "\n",
      "* **Poke:**  Use it to harass enemies from a safe distance.\n",
      "* **Last Hitting:**  Use the orb's return damage to secure last hits on minions.\n",
      "* **Engage:**  Use it to deal initial damage before following up with other abilities.\n",
      "* **Escape:**  Use it to deal damage and escape from a dangerous situation.\n",
      "\n",
      "Let me know if you have any more questions about Ahri's abilities! \n"
     ]
    }
   ],
   "source": [
    "from operator import itemgetter\n",
    "from langchain.globals import set_debug, set_verbose\n",
    "from langchain_core.runnables import RunnableBranch\n",
    "\n",
    "set_debug(False)\n",
    "set_verbose(True)\n",
    "\n",
    "retriever_chain = contextualize_q_prompt | rephrase_llm | StrOutputParser()\n",
    "\n",
    "chain = (\n",
    "    {\n",
    "        \"context\": RunnableBranch(\n",
    "            (lambda x: x[\"chat_history\"], retriever_chain | StrOutputParser()),  # type: ignore\n",
    "            (lambda x: not x[\"chat_history\"], itemgetter(\"input\")),  # type: ignore\n",
    "            retriever_chain | StrOutputParser(),\n",
    "        )\n",
    "        | retriever,\n",
    "        \"input\": itemgetter(\"input\"),\n",
    "        \"chat_history\": itemgetter(\"chat_history\"),\n",
    "    }\n",
    "    | qa_prompt\n",
    "    | qa_llm\n",
    "    | StrOutputParser()\n",
    ")\n",
    "\n",
    "# chain.invoke({\"chat_history\": chat_history, \"input\" : \"What are her abilities?\"})\n",
    "async for chunk in chain.astream(\n",
    "    {\"chat_history\": chat_history, \"input\": \"What does Ahri Q do?\"}\n",
    "):\n",
    "    print(chunk, end=\"\", flush=True)"
   ]
  },
  {
   "cell_type": "code",
   "execution_count": 84,
   "metadata": {},
   "outputs": [
    {
     "data": {
      "text/plain": [
       "'Please provide more context. Who is \"her\"? \\n'"
      ]
     },
     "execution_count": 84,
     "metadata": {},
     "output_type": "execute_result"
    }
   ],
   "source": [
    "retriever_chain.invoke({\"chat_history\": [], \"input\": \"How to play her\"})"
   ]
  },
  {
   "cell_type": "code",
   "execution_count": 72,
   "metadata": {},
   "outputs": [
    {
     "data": {
      "text/plain": [
       "[Document(metadata={'source': 'Champion data : Ahri'}, page_content='Innate:  Ahris generates a stack of Essence Fragment from killing  minions and  monsters. At max stacks, she consumes them to  heal herself., missileSpeed: None, rechargeRate: None, collisionRadius: None, tetherRadius: None, onTargetCdStatic: None, innerRadius: None, speed: None, width: None, angle: None, castTime: None, effectRadius: None, targetRange: None}], Ahri Q: [{name: Orb of Deception, icon: https://cdn.communitydragon.org/latest/champion/Ahri/ability-icon/q, effects: [{description: Active: Ahri sends her orb in the target direction that deals magic damage to enemies hit. At maximum range, the orb homes back to her to deal the same in true damage to enemies hit., leveling: [{attribute: Damage Per Pass, modifiers: [{valuePerLevel: [40.000  , 65.000  , 90.000  , 115.000  , 140.000  ]}, {valuePerLevel: [50.000  % AP, 50.000  % AP, 50.000  % AP, 50.000  % AP, 50.000  % AP]}]}, {attribute: Total Mixed Damage, modifiers: [{valuePerLevel: [80.000  , 130.000  , 180.000  , 230.000  ,'),\n",
       " Document(metadata={'source': 'Champion data : Ahri'}, page_content='was saved by  resurrection.\\\\nThe bolts will fire if the dash is  interrupted by other means., blurb: Active:  Ahri  dashes forward and fires essence bolts to nearby enemies, dealing magic damage., missileSpeed: None, rechargeRate: None, collisionRadius: None, tetherRadius: None, onTargetCdStatic: None, innerRadius: None, speed: 1200 + 100% movement speed / 1400, width: None, angle: None, castTime: none, effectRadius: 600, targetRange: 500}]}'),\n",
       " Document(metadata={'source': 'Champion data : Ahri'}, page_content='Ahri stats: {Ahri health: {flat: 590, perLevel: 104}, Ahri healthRegen: {flat: 2.5, perLevel: 0.6}, Ahri mana: {flat: 418, perLevel: 25}, Ahri manaRegen: {flat: 8, perLevel: 0.8}, Ahri armor: {flat: 21, perLevel: 4.7}, Ahri magicResistance: {flat: 30, perLevel: 1.3}, Ahri attackDamage: {flat: 53, perLevel: 3}, Ahri movespeed: {flat: 330}, Ahri acquisitionRadius: {flat: 525}, Ahri selectionRadius: {flat: 100}, Ahri pathingRadius: {flat: 35}, Ahri gameplayRadius: {flat: 65}, Ahri criticalStrikeDamage: {flat: 175}, Ahri criticalStrikeDamageModifier: {flat: 1.0}, Ahri attackSpeed: {flat: 0.668, perLevel: 2.2}, Ahri attackSpeedRatio: {flat: 0.625}, Ahri attackCastTime: {flat: 0.3}, Ahri attackTotalTime: {flat: 1.6}, Ahri attackDelayOffset: {flat: -0.1}, Ahri attackRange: {flat: 550}, Ahri aramDamageTaken: {flat: 1.0}, Ahri aramDamageDealt: {flat: 1.0}, Ahri aramHealing: {flat: 1.0}, Ahri aramShielding: {flat: 1.0}, Ahri urfDamageTaken: {flat: 1.05}, Ahri urfDamageDealt: {flat: 0.9}, Ahri'),\n",
       " Document(metadata={'source': 'Champion data : Ahri'}, page_content='1550 / 60 - 2600, width: 200, angle: None, castTime: 0.25, effectRadius: 100, targetRange: None}], Ahri W: [{name: Fox-Fire, icon: https://cdn.communitydragon.org/latest/champion/Ahri/ability-icon/w, effects: [{description: Active: Ahri gains 40% bonus movement speed that decays over 2 seconds and conjures three flames which orbit her clockwise for up to 2.5 seconds., leveling: []}, {description: After 0.25 seconds of the cast, each flame targets a visible enemy based on priority, or after 0.4 seconds, simply targets the closest visible enemy in range. Each flame deals magic damage, with subsequent flames against a target dealing 30% damage., leveling: [{attribute: Initial Flame Magic Damage, modifiers: [{valuePerLevel: [45.000  , 70.000  , 95.000  , 120.000  , 145.000  ]}, {valuePerLevel: [30.000  % AP, 30.000  % AP, 30.000  % AP, 30.000  % AP, 30.000  % AP]}]}, {attribute: Subsequent Flame Magic Damage, modifiers: [{valuePerLevel: [13.500  , 21.000  , 28.500  , 36.000  , 43.500  ]},'),\n",
       " Document(metadata={'source': 'Champion data : Ahri'}, page_content='TRUE, onHitEffects: None, occurrence: None, notes: Each missile of Fox-Fire has its own shorter non-priority range.\\\\nAny unused Fox-Fires will fizzle upon death., blurb: Active:  Ahri gains a burst of  move speed and conjures three fox-fires that orbit her for a short time. Fox-fires home onto nearby enemies, dealing magic damage., missileSpeed: None, rechargeRate: None, collisionRadius: None, tetherRadius: None, onTargetCdStatic: None, innerRadius: None, speed: 75.92° per second / 1400, width: None, angle: None, castTime: none, effectRadius: 150 / 550 / 725, targetRange: None}], Ahri E: [{name: Charm, icon: https://cdn.communitydragon.org/latest/champion/Ahri/ability-icon/e, effects: [{description: Active: Ahri blows forth a kiss in the target direction that deals magic damage to the first enemy hit, knocking them down and charming and slowing them by 65% for a duration., leveling: [{attribute: Magic Damage, modifiers: [{valuePerLevel: [80.000  , 110.000  , 140.000  , 170.000  ,'),\n",
       " Document(metadata={'source': 'Champion data : Ahri'}, page_content='{flat: 1.0}, Ahri aramDamageDealt: {flat: 1.0}, Ahri aramHealing: {flat: 1.0}, Ahri aramShielding: {flat: 1.0}, Ahri urfDamageTaken: {flat: 1.05}, Ahri urfDamageDealt: {flat: 0.9}, Ahri urfHealing: {flat: 1.0}, Ahri urfShielding: {flat: 1.0}}')]"
      ]
     },
     "execution_count": 72,
     "metadata": {},
     "output_type": "execute_result"
    }
   ],
   "source": [
    "chain =  itemgetter(\"input\") | retriever\n",
    "\n",
    "chain.invoke({\"chat_history\": [], \"input\": \"Ahri q\"})"
   ]
  },
  {
   "cell_type": "code",
   "execution_count": 35,
   "metadata": {},
   "outputs": [
    {
     "name": "stdout",
     "output_type": "stream",
     "text": [
      "Ahri is a powerful burst mage with high mobility. Here's a breakdown of how to play her effectively:\n",
      "\n",
      "**Understanding Ahri's Strengths:**\n",
      "\n",
      "* **High burst damage:** Her abilities, especially her ultimate, Spirit Rush, can deal a significant amount of damage in a short time.\n",
      "* **Mobility:**  Spirit Rush allows her to quickly reposition and escape dangerous situations.\n",
      "* **Crowd control:** Charm can lock down enemies, setting up kills or escapes.\n",
      "\n",
      "**Understanding Ahri's Weaknesses:**\n",
      "\n",
      "* **Mana-intensive:** Her abilities require a lot of mana, making mana management crucial.\n",
      "* **Squishy:**  She has low health and armor, making her vulnerable to ganks and sustained damage.\n",
      "* **Skill-dependent:** Her abilities require accurate aiming and timing for maximum effectiveness.\n",
      "\n",
      "**Gameplay Strategy:**\n",
      "\n",
      "1. **Early Game:**\n",
      "   * **Farm effectively:**  Focus on getting CS (Creep Score) and leveling up.\n",
      "   * **Use Orb of Deception for safe harass:**  It's a good tool for poke and can be used to secure last hits.\n",
      "   * **Roam strategically:**  Her mobility allows her to quickly rotate to other lanes and assist teammates.\n",
      "   * **Avoid risky engagements:**  Early game, she's vulnerable to ganks.\n",
      "\n",
      "2. **Mid Game:**\n",
      "   * **Control the map:**  Use Spirit Rush and Charm to create space and pressure enemies.\n",
      "   * **Look for pick opportunities:**  Use Charm to set up kills on isolated enemies.\n",
      "   * **Prioritize objectives:**  Help your team take down towers, dragons, and Rift Herald.\n",
      "\n",
      "3. **Late Game:**\n",
      "   * **Position wisely:**  Stay behind your team and use Spirit Rush to reposition as needed.\n",
      "   * **Focus high-priority targets:**  Prioritize enemies who pose a significant threat.\n",
      "   * **Coordinate with your team:**  Work together to secure objectives and team fights.\n",
      "\n",
      "**Itemization:**\n",
      "\n",
      "* **Core Items:**\n",
      "   * **Luden's Tempest:**  Provides burst damage, mana, and movement speed.\n",
      "   * **Rabadon's Deathcap:**  Amplifies AP for massive damage output.\n",
      "   * **Zhonya's Hourglass:**  Provides survivability by allowing you to become invulnerable.\n",
      "\n",
      "* **Situational Items:**\n",
      "   * **Morellonomicon:**  For healing reduction against champions with healing abilities.\n",
      "   * **Void Staff:**  For piercing magic resistance.\n",
      "   * **Banshee's Veil:**  For protection against magic damage and crowd control.\n",
      "\n",
      "**Abilities:**\n",
      "\n",
      "* **Essence Theft (Passive):** Provides healing based on kills and assists, making it essential for sustain.\n",
      "* **Orb of Deception (Q):**  A versatile ability for poke, farming, and securing kills.\n",
      "* **Fox-Fire (W):**  Provides a burst of movement speed and deals damage to multiple enemies.\n",
      "* **Charm (E):**  A powerful crowd control ability for setting up kills or escapes.\n",
      "* **Spirit Rush (R):**  Ahri's ultimate ability that grants her three dashes and allows her to deal burst damage.\n",
      "\n",
      "**Tips:**\n",
      "\n",
      "* **Mana Management:**  Use mana potions and manage your mana usage wisely.\n",
      "* **Aiming:**  Practice aiming your abilities accurately, especially Charm and Orb of Deception.\n",
      "* **Positioning:**  Stay behind your team and use Spirit Rush to reposition as needed.\n",
      "* **Use Charm strategically:**  It can be used to initiate fights, secure kills, or escape from danger.\n",
      "* **Don't be afraid to roam:**  Ahri's mobility allows her to quickly rotate to other lanes and help her team.\n",
      "\n",
      "**Remember:**  Ahri is a skill-dependent champion who rewards players who master her abilities and positioning. With practice, you can become a formidable force on the Rift.\n",
      "\n",
      "[HumanMessage(content='How to play ahri?'), AIMessage(content=\"Ahri is a powerful burst mage with high mobility. Here's a breakdown of how to play her effectively:\\n\\n**Understanding Ahri's Strengths:**\\n\\n* **High burst damage:** Her abilities, especially her ultimate, Spirit Rush, can deal a significant amount of damage in a short time.\\n* **Mobility:**  Spirit Rush allows her to quickly reposition and escape dangerous situations.\\n* **Crowd control:** Charm can lock down enemies, setting up kills or escapes.\\n\\n**Understanding Ahri's Weaknesses:**\\n\\n* **Mana-intensive:** Her abilities require a lot of mana, making mana management crucial.\\n* **Squishy:**  She has low health and armor, making her vulnerable to ganks and sustained damage.\\n* **Skill-dependent:** Her abilities require accurate aiming and timing for maximum effectiveness.\\n\\n**Gameplay Strategy:**\\n\\n1. **Early Game:**\\n   * **Farm effectively:**  Focus on getting CS (Creep Score) and leveling up.\\n   * **Use Orb of Deception for safe harass:**  It's a good tool for poke and can be used to secure last hits.\\n   * **Roam strategically:**  Her mobility allows her to quickly rotate to other lanes and assist teammates.\\n   * **Avoid risky engagements:**  Early game, she's vulnerable to ganks.\\n\\n2. **Mid Game:**\\n   * **Control the map:**  Use Spirit Rush and Charm to create space and pressure enemies.\\n   * **Look for pick opportunities:**  Use Charm to set up kills on isolated enemies.\\n   * **Prioritize objectives:**  Help your team take down towers, dragons, and Rift Herald.\\n\\n3. **Late Game:**\\n   * **Position wisely:**  Stay behind your team and use Spirit Rush to reposition as needed.\\n   * **Focus high-priority targets:**  Prioritize enemies who pose a significant threat.\\n   * **Coordinate with your team:**  Work together to secure objectives and team fights.\\n\\n**Itemization:**\\n\\n* **Core Items:**\\n   * **Luden's Tempest:**  Provides burst damage, mana, and movement speed.\\n   * **Rabadon's Deathcap:**  Amplifies AP for massive damage output.\\n   * **Zhonya's Hourglass:**  Provides survivability by allowing you to become invulnerable.\\n\\n* **Situational Items:**\\n   * **Morellonomicon:**  For healing reduction against champions with healing abilities.\\n   * **Void Staff:**  For piercing magic resistance.\\n   * **Banshee's Veil:**  For protection against magic damage and crowd control.\\n\\n**Abilities:**\\n\\n* **Essence Theft (Passive):** Provides healing based on kills and assists, making it essential for sustain.\\n* **Orb of Deception (Q):**  A versatile ability for poke, farming, and securing kills.\\n* **Fox-Fire (W):**  Provides a burst of movement speed and deals damage to multiple enemies.\\n* **Charm (E):**  A powerful crowd control ability for setting up kills or escapes.\\n* **Spirit Rush (R):**  Ahri's ultimate ability that grants her three dashes and allows her to deal burst damage.\\n\\n**Tips:**\\n\\n* **Mana Management:**  Use mana potions and manage your mana usage wisely.\\n* **Aiming:**  Practice aiming your abilities accurately, especially Charm and Orb of Deception.\\n* **Positioning:**  Stay behind your team and use Spirit Rush to reposition as needed.\\n* **Use Charm strategically:**  It can be used to initiate fights, secure kills, or escape from danger.\\n* **Don't be afraid to roam:**  Ahri's mobility allows her to quickly rotate to other lanes and help her team.\\n\\n**Remember:**  Ahri is a skill-dependent champion who rewards players who master her abilities and positioning. With practice, you can become a formidable force on the Rift.\\n\")]\n",
      "Please provide me with the name of the champion you are referring to. I need to know which champion's stats you want to know. \n",
      "\n"
     ]
    }
   ],
   "source": [
    "from langchain_core.messages import AIMessage, HumanMessage\n",
    "\n",
    "chat_history = []\n",
    "\n",
    "question = \"How to play ahri?\"\n",
    "ai_msg_1 = rag_chain.invoke({\"input\": question, \"chat_history\": chat_history})\n",
    "chat_history += [\n",
    "    HumanMessage(content=question),\n",
    "    AIMessage(content=ai_msg_1[\"answer\"]),\n",
    "]\n",
    "\n",
    "\n",
    "print(ai_msg_1[\"answer\"])\n",
    "\n",
    "print(chat_history)\n",
    "second_question = \"What her stats?\"\n",
    "ai_msg_2 = rag_chain.invoke({\"input\": second_question, \"chat_history\": chat_history})\n",
    "\n",
    "print(ai_msg_2[\"answer\"])"
   ]
  },
  {
   "cell_type": "code",
   "execution_count": 37,
   "metadata": {},
   "outputs": [
    {
     "data": {
      "text/plain": [
       "'What her stats?'"
      ]
     },
     "execution_count": 37,
     "metadata": {},
     "output_type": "execute_result"
    }
   ],
   "source": [
    "ai_msg_2[\"input\"]"
   ]
  },
  {
   "cell_type": "code",
   "execution_count": 31,
   "metadata": {},
   "outputs": [
    {
     "data": {
      "text/plain": [
       "\"Aatrox is a powerful fighter with a high skill ceiling. Here's a breakdown of how to play him effectively:\\n\\n**Understanding Aatrox's Strengths**\\n\\n* **High Damage:** Aatrox deals massive damage, especially with his Deathbringer Stance empowered attacks and The Darkin Blade's sweet spots.\\n* **Self-Sustain:** His passive and World Ender provide significant healing, making him durable in fights.\\n* **Strong Late Game:** Aatrox scales well, becoming a true monster in the late game.\\n* **Mobility:** Umbral Dash provides burst mobility for positioning and escaping.\\n* **Crowd Control:** The Darkin Blade's knock-up and Infernal Chains' pull offer some crowd control.\\n\\n**Understanding Aatrox's Weaknesses**\\n\\n* **Mana Issues:** Aatrox is mana-dependent, requiring careful management.\\n* **Early Game:** He's relatively weak early on, vulnerable to ganks and harass.\\n* **Skill-Intensive:** Mastering his abilities and combos is crucial for success.\\n* **Ultimate Dependence:** World Ender is a powerful tool, but its cooldown is long.\\n\\n**Gameplay Strategy**\\n\\n1. **Early Game:**\\n   * **Focus on farming:** Aatrox's early game is weak, so prioritize safe farming and avoid risky trades.\\n   * **Use Deathbringer Stance for harass:**  Only when it's safe to do so, use the empowered attack to poke and harass your opponent.\\n   * **Don't overextend:**  Avoid getting caught out of position by enemy junglers or roamers.\\n   * **Consider starting with Doran's Blade or Corrupting Potion:** Doran's Blade offers early sustain and damage, while Corrupting Potion provides sustain and a boost to your damage.\\n\\n2. **Mid Game:**\\n   * **Look for opportunities to engage:** As you get stronger, you can start to engage fights more aggressively.\\n   * **Use The Darkin Blade effectively:**  Utilize the three casts to maximize damage and knock-up opportunities.\\n   * **Position yourself for maximum sweet spots:**  Aim your The Darkin Blade casts to hit multiple enemies in the sweet spot.\\n   * **Use Umbral Dash for mobility:** Dash in and out of fights to reposition, dodge abilities, or escape danger.\\n   * **Use Infernal Chains to control the flow of fights:**  Slow enemies, reveal them, and pull them towards you for easier kills.\\n   * **Focus on building items that enhance your damage and survivability:**  Popular items include Black Cleaver, Sterak's Gage, and Death's Dance.\\n\\n3. **Late Game:**\\n   * **Become a teamfight monster:**  Aatrox's true potential shines in late-game teamfights.\\n   * **Utilize World Ender effectively:**  Use your ultimate to fear enemies, gain a massive boost to your damage and healing, and extend its duration by securing kills.\\n   * **Focus on taking down priority targets:**  Target enemy carries or assassins who pose the biggest threat to your team.\\n   * **Be aware of your positioning:**  Aatrox is a melee champion, so avoid getting caught in the middle of the enemy team.\\n\\n**Tips and Tricks**\\n\\n* **Practice your combos:**  Mastering Aatrox's abilities and combos is essential for maximizing his damage output.\\n* **Manage your mana:**  Aatrox's abilities are mana-intensive, so use them strategically and prioritize your auto attacks when possible.\\n* **Take advantage of your passive:**  Use your empowered attacks to heal and sustain yourself in fights.\\n* **Don't be afraid to engage:**  Aatrox is a strong duelist, so don't hesitate to go for aggressive trades.\\n* **Use your ultimate wisely:**  World Ender is a powerful ability, but its cooldown is long, so use it strategically.\\n\\n**Runes and Summoner Spells**\\n\\n* **Runes:**\\n   * **Conqueror:**  Provides consistent damage and healing, ideal for Aatrox's sustained damage.\\n   * **Triumph:**  Provides extra gold and healing on takedowns.\\n   * **Legend: Tenacity:**  Reduces crowd control duration, making you more resilient.\\n   * **Last Stand:**  Amplifies your damage when you are low on health.\\n   * **Bone Plating:**  Provides extra armor, making you tankier in the early game.\\n   * **Overgrowth:**  Increases your health regen, improving your survivability.\\n* **Summoner Spells:**\\n   * **Flash:**  Essential for repositioning, escaping, or initiating.\\n   * **Ignite:**  Provides bonus damage and slows, helpful for finishing off enemies.\\n\\n**Remember:** Aatrox is a challenging champion to master, but his high reward potential makes him a rewarding pick for experienced players. Practice, experiment, and find what works best for you. \\n\""
      ]
     },
     "execution_count": 31,
     "metadata": {},
     "output_type": "execute_result"
    }
   ],
   "source": [
    "response = rag_chain.invoke({\"input\": \"how to play aatrox\" })\n",
    "response[\"answer\"]"
   ]
  },
  {
   "cell_type": "code",
   "execution_count": 51,
   "metadata": {},
   "outputs": [
    {
     "data": {
      "text/plain": [
       "AIMessage(content=\"Ahri, the Nine-Tailed Fox, is a powerful mage with a focus on burst damage and mobility. Here's a breakdown of her abilities:\\n\\n**Passive:  Charm (狐火, Hǔ Huǒ)**\\n\\n* **Effect:**  After casting a spell, Ahri's next basic attack deals bonus magic damage and heals her for a portion of the damage dealt.\\n\\n**Q:  Orb of Deception (魅惑之球, Mèihuò Zhī Qiú)**\\n\\n* **Effect:** Ahri throws a magic orb that deals magic damage to the first enemy hit. If the orb hits an enemy champion, it bounces to another nearby enemy.\\n* **Key Points:**  This ability is great for poking and farming. The bounce mechanic allows for potential AoE damage.\\n\\n**W:  Fox-Fire (妖狐火, Yāo Hú Huǒ)**\\n\\n* **Effect:** Ahri fires a projectile that deals magic damage to the first enemy hit. If the projectile hits an enemy champion, it creates a zone that damages and slows enemies within it.\\n* **Key Points:**  Fox-Fire is Ahri's main damage ability. The slowing effect can be useful for setting up kills or escapes.\\n\\n**E:  Charm (魅惑, Mèihuò)**\\n\\n* **Effect:** Ahri charms an enemy champion, dealing magic damage and causing them to move towards her for a short duration.\\n* **Key Points:**  Charm is Ahri's signature ability, allowing her to engage or disengage from fights. It is crucial for landing combos and securing kills.\\n\\n**R:  Spirit Rush (灵狐冲, Líng Hú Chōng)**\\n\\n* **Effect:** Ahri dashes in a target direction, dealing magic damage to enemies she passes through. She can cast this ability up to three times before going on cooldown. \\n* **Key Points:**  Spirit Rush is Ahri's ultimate mobility tool. It allows her to quickly chase down enemies, escape danger, or reposition herself in fights.\\n\\n**Tips and Tricks:**\\n\\n* **Charm:** Practice landing Charm accurately, as it's essential for Ahri's success.\\n* **Orb of Deception:**  Utilize the bounce mechanic to hit multiple enemies or farm efficiently.\\n* **Fox-Fire:** Combine Fox-Fire with Charm for maximum damage and control.\\n* **Spirit Rush:** Use Spirit Rush wisely for repositioning, chasing, or escaping.\\n\\nAhri is a versatile champion that thrives on her ability to control the flow of combat. Mastering her abilities and understanding their interactions will help you become a formidable fox on the Rift! \\n\", response_metadata={'prompt_feedback': {'block_reason': 0, 'safety_ratings': []}, 'finish_reason': 'STOP', 'safety_ratings': [{'category': 'HARM_CATEGORY_SEXUALLY_EXPLICIT', 'probability': 'NEGLIGIBLE', 'blocked': False}, {'category': 'HARM_CATEGORY_HATE_SPEECH', 'probability': 'NEGLIGIBLE', 'blocked': False}, {'category': 'HARM_CATEGORY_HARASSMENT', 'probability': 'NEGLIGIBLE', 'blocked': False}, {'category': 'HARM_CATEGORY_DANGEROUS_CONTENT', 'probability': 'NEGLIGIBLE', 'blocked': False}]}, id='run-e14d0586-02e5-4130-812e-81f745a99670-0', usage_metadata={'input_tokens': 16, 'output_tokens': 554, 'total_tokens': 570})"
      ]
     },
     "execution_count": 51,
     "metadata": {},
     "output_type": "execute_result"
    }
   ],
   "source": [
    "\n",
    "\n",
    "messages = [\n",
    "    (\n",
    "        \"system\",\n",
    "        \"You are a helpful assistant for league of legends\",\n",
    "    ),\n",
    "    (\"human\", \"What are ahri abilities.\"),\n",
    "    \n",
    "]\n",
    "ai_msg = llm.invoke(messages)\n",
    "ai_msg"
   ]
  },
  {
   "cell_type": "code",
   "execution_count": 52,
   "metadata": {},
   "outputs": [
    {
     "data": {
      "text/plain": [
       "response:\n",
       "GenerateContentResponse(\n",
       "    done=True,\n",
       "    iterator=None,\n",
       "    result=protos.GenerateContentResponse({\n",
       "      \"candidates\": [\n",
       "        {\n",
       "          \"content\": {\n",
       "            \"parts\": [\n",
       "              {\n",
       "                \"text\": \"Ahri, the Nine-Tailed Fox, is a powerful mage with a focus on mobility and burst damage. Here's a breakdown of her abilities:\\n\\n**Passive:  Charm (Passive)**\\n\\n* Ahri's basic attacks deal bonus magic damage.\\n* This damage scales with Ahri's ability power.\\n\\n**Q: Orb of Deception (Q)**\\n\\n* Ahri throws a magic orb that deals magic damage to the first enemy hit.\\n* The orb can be recast within a short time to make it bounce to another target, dealing slightly less damage.\\n* This ability can be used for poking, wave clear, or burst damage.\\n\\n**W: Fox-Fire (W)**\\n\\n* Ahri fires three orbs of fox-fire in a cone, dealing magic damage to enemies hit.\\n* If the three orbs hit the same enemy, they deal bonus magic damage. \\n* This is Ahri's main poke ability and is great for harassing enemies in lane.\\n\\n**E:  Charm (E)**\\n\\n* Ahri charms the target enemy, causing them to be briefly stunned and move towards her.\\n* This is a powerful engage tool, allowing Ahri to get in close for a burst combo or secure kills.\\n\\n**R: Spirit Rush (R)**\\n\\n* Ahri dashes forward, dealing magic damage to enemies in her path.\\n* She can cast this ability up to three times before having to return to her starting location.\\n* This ability is Ahri's primary escape tool and also allows her to chase down enemies.\\n\\n**Key Points:**\\n\\n* Ahri is a high-skill champion with a lot of potential.\\n* Her mobility allows her to roam the map and create opportunities.\\n* Her burst damage can be devastating, but she is vulnerable if caught out of position.\\n* **Remember to use her Charm (E) strategically!** It is crucial for her to land this ability for successful combos and engagements.\\n\\nLet me know if you have any other questions about Ahri or any other League of Legends champions! \\n\"\n",
       "              }\n",
       "            ],\n",
       "            \"role\": \"model\"\n",
       "          },\n",
       "          \"finish_reason\": \"STOP\",\n",
       "          \"index\": 0,\n",
       "          \"safety_ratings\": [\n",
       "            {\n",
       "              \"category\": \"HARM_CATEGORY_SEXUALLY_EXPLICIT\",\n",
       "              \"probability\": \"NEGLIGIBLE\"\n",
       "            },\n",
       "            {\n",
       "              \"category\": \"HARM_CATEGORY_HATE_SPEECH\",\n",
       "              \"probability\": \"NEGLIGIBLE\"\n",
       "            },\n",
       "            {\n",
       "              \"category\": \"HARM_CATEGORY_HARASSMENT\",\n",
       "              \"probability\": \"NEGLIGIBLE\"\n",
       "            },\n",
       "            {\n",
       "              \"category\": \"HARM_CATEGORY_DANGEROUS_CONTENT\",\n",
       "              \"probability\": \"NEGLIGIBLE\"\n",
       "            }\n",
       "          ]\n",
       "        }\n",
       "      ],\n",
       "      \"usage_metadata\": {\n",
       "        \"prompt_token_count\": 18,\n",
       "        \"candidates_token_count\": 429,\n",
       "        \"total_token_count\": 447\n",
       "      }\n",
       "    }),\n",
       ")"
      ]
     },
     "execution_count": 52,
     "metadata": {},
     "output_type": "execute_result"
    }
   ],
   "source": [
    "import google.generativeai as genai\n",
    "\n",
    "model_1_5_flash = genai.GenerativeModel(\n",
    "    model_name=\"gemini-1.5-flash\",\n",
    "    system_instruction=\"You are a helpful assistant for league of legends\",\n",
    ")\n",
    "\n",
    "model_1_5_flash.generate_content(\"what are ahri's abilities?\")"
   ]
  }
 ],
 "metadata": {
  "kernelspec": {
   "display_name": ".venv",
   "language": "python",
   "name": "python3"
  },
  "language_info": {
   "codemirror_mode": {
    "name": "ipython",
    "version": 3
   },
   "file_extension": ".py",
   "mimetype": "text/x-python",
   "name": "python",
   "nbconvert_exporter": "python",
   "pygments_lexer": "ipython3",
   "version": "3.12.0"
  }
 },
 "nbformat": 4,
 "nbformat_minor": 2
}
